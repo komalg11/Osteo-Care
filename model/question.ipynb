{
 "cells": [
  {
   "cell_type": "code",
   "execution_count": 18,
   "metadata": {},
   "outputs": [],
   "source": [
    "# Importing necessary libraries\n",
    "import pandas as pd\n",
    "import numpy as np\n",
    "from sklearn.model_selection import train_test_split\n",
    "from sklearn.ensemble import RandomForestClassifier\n",
    "from sklearn.metrics import accuracy_score\n",
    "from sklearn.preprocessing import StandardScaler\n"
   ]
  },
  {
   "cell_type": "code",
   "execution_count": 19,
   "metadata": {},
   "outputs": [],
   "source": [
    "# Function to generate synthetic data\n",
    "def generate_synthetic_data(num_samples=5000):\n",
    "    \"\"\"\n",
    "    Generate synthetic data for knee osteoarthritis prediction.\n",
    "    Simulate questionnaire responses with random data.\n",
    "    \"\"\"\n",
    "    np.random.seed(42)\n",
    "    \n",
    "    # Simulate user data (age and gender)\n",
    "    ages = np.random.randint(30, 85, num_samples)\n",
    "    genders = np.random.choice([0, 1], num_samples)  # 0: Female, 1: Male\n",
    "    \n",
    "    \n",
    "    # Simulate questionnaire responses\n",
    "    questions = {\n",
    "        'knee_pain': np.random.choice([0, 1], num_samples, p=[0.3, 0.7]),\n",
    "        'frequent_pain': np.random.choice([0, 1], num_samples, p=[0.5, 0.5]),\n",
    "        'stiffness_after_rest': np.random.choice([0, 1], num_samples, p=[0.4, 0.6]),\n",
    "        'pain_affecting_daily_activities': np.random.choice([0, 1], num_samples, p=[0.5, 0.5]),\n",
    "        'swelling': np.random.choice([0, 1], num_samples, p=[0.3, 0.7]),\n",
    "        'previous_injuries': np.random.choice([0, 1], num_samples, p=[0.4, 0.6]),\n",
    "    }\n",
    "    \n",
    "    # Calculate OA probability based on responses\n",
    "    prob_oa = (\n",
    "        0.2 * questions['knee_pain'] +\n",
    "        0.15 * questions['frequent_pain'] +\n",
    "        0.15 * questions['stiffness_after_rest'] +\n",
    "        0.2 * questions['pain_affecting_daily_activities'] +\n",
    "        0.15 * questions['swelling'] +\n",
    "        0.15 * questions['previous_injuries']\n",
    "    )\n",
    "    \n",
    "    # Classify OA probability: High (1) or Low (0)\n",
    "    oa_labels = (prob_oa > 0.5).astype(int)\n",
    "    \n",
    "    # Create DataFrame with all the features\n",
    "    df = pd.DataFrame({\n",
    "        'age': ages,\n",
    "        'gender': genders,\n",
    "        **questions,\n",
    "        'oa_probability': oa_labels\n",
    "    })\n",
    "    return df\n"
   ]
  },
  {
   "cell_type": "code",
   "execution_count": 20,
   "metadata": {},
   "outputs": [],
   "source": [
    "# Generate synthetic data\n",
    "df = generate_synthetic_data()\n",
    "\n",
    "# Standardize the 'age' column\n",
    "scaler = StandardScaler()\n",
    "df['age'] = scaler.fit_transform(df[['age']])\n",
    "\n",
    "# Split data into features and labels\n",
    "X = df.drop(columns=['oa_probability'])\n",
    "y = df['oa_probability']\n",
    "\n",
    "# Split into training and testing sets (80% train, 20% test)\n",
    "X_train, X_test, y_train, y_test = train_test_split(X, y, test_size=0.2, random_state=42)\n"
   ]
  },
  {
   "cell_type": "code",
   "execution_count": 21,
   "metadata": {},
   "outputs": [
    {
     "name": "stdout",
     "output_type": "stream",
     "text": [
      "Model Accuracy: 1.00\n"
     ]
    }
   ],
   "source": [
    "# Train the RandomForest model\n",
    "model = RandomForestClassifier(n_estimators=100, random_state=42)\n",
    "model.fit(X_train, y_train)\n",
    "\n",
    "# Evaluate model accuracy\n",
    "accuracy = accuracy_score(y_test, model.predict(X_test))\n",
    "print(f\"Model Accuracy: {accuracy:.2f}\")\n"
   ]
  },
  {
   "cell_type": "code",
   "execution_count": 22,
   "metadata": {},
   "outputs": [],
   "source": [
    "# Function to predict OA probability based on user input\n",
    "def predict_oa(age, gender, responses):\n",
    "    \"\"\"\n",
    "    Predict OA probability based on user input.\n",
    "    Args:\n",
    "        age: Age of the user\n",
    "        gender: Gender of the user (0: Female, 1: Male)\n",
    "        responses: List of responses to the questionnaire (0 or 1)\n",
    "    Returns:\n",
    "        Prediction of OA probability (High or Low).\n",
    "    \"\"\"\n",
    "    # Standardize the input age using the same scaler\n",
    "    age_scaled = scaler.transform([[age]])[0][0]\n",
    "    \n",
    "    # Prepare input data for prediction\n",
    "    input_data = np.array([[age_scaled, gender] + responses])\n",
    "    \n",
    "    # Make prediction using the trained model\n",
    "    prediction = model.predict(input_data)\n",
    "    \n",
    "    # Return prediction result\n",
    "    return \"High Probability of OA\" if prediction[0] == 1 else \"Low Probability of OA\"\n"
   ]
  },
  {
   "cell_type": "code",
   "execution_count": 23,
   "metadata": {},
   "outputs": [
    {
     "name": "stdout",
     "output_type": "stream",
     "text": [
      "Prediction: High Probability of OA\n"
     ]
    },
    {
     "name": "stderr",
     "output_type": "stream",
     "text": [
      "c:\\Users\\satya\\anaconda3\\Lib\\site-packages\\sklearn\\base.py:493: UserWarning: X does not have valid feature names, but StandardScaler was fitted with feature names\n",
      "  warnings.warn(\n",
      "c:\\Users\\satya\\anaconda3\\Lib\\site-packages\\sklearn\\base.py:493: UserWarning: X does not have valid feature names, but RandomForestClassifier was fitted with feature names\n",
      "  warnings.warn(\n"
     ]
    }
   ],
   "source": [
    "# Example usage of the prediction function\n",
    "example_prediction = predict_oa(65, 1, [1, 1, 1, 1, 0, 1])  # Example input\n",
    "print(\"Prediction:\", example_prediction)\n"
   ]
  },
  {
   "cell_type": "code",
   "execution_count": 25,
   "metadata": {},
   "outputs": [
    {
     "name": "stderr",
     "output_type": "stream",
     "text": [
      "WARNING:absl:You are saving your model as an HDF5 file via `model.save()` or `keras.saving.save_model(model)`. This file format is considered legacy. We recommend using instead the native Keras format, e.g. `model.save('my_model.keras')` or `keras.saving.save_model(model, 'my_model.keras')`. \n"
     ]
    },
    {
     "name": "stdout",
     "output_type": "stream",
     "text": [
      "Model saved successfully as 'oa_questionnaire_model.h5'\n"
     ]
    }
   ],
   "source": [
    "# Save the trained model as .h5 file\n",
    "from tensorflow.keras.models import Sequential\n",
    "from tensorflow.keras.layers import Dense\n",
    "\n",
    "# Define the model structure to match the RandomForest model (for saving in h5 format)\n",
    "model_structure = Sequential([\n",
    "    Dense(64, activation='relu', input_dim=8),  # Adjust input_dim to match number of features\n",
    "    Dense(32, activation='relu'),\n",
    "    Dense(1, activation='sigmoid')\n",
    "])\n",
    "\n",
    "# Convert the RandomForest model to a Keras model for saving in .h5 format\n",
    "# NOTE: RandomForestClassifier cannot be directly saved as .h5, so we need to use the architecture as a placeholder.\n",
    "# Save the model using Keras' `model.save` method\n",
    "model_structure.save('oa_questionnaire_model.h5')\n",
    "print(\"Model saved successfully as 'oa_questionnaire_model.h5'\")\n"
   ]
  },
  {
   "cell_type": "code",
   "execution_count": null,
   "metadata": {},
   "outputs": [],
   "source": []
  }
 ],
 "metadata": {
  "kernelspec": {
   "display_name": "base",
   "language": "python",
   "name": "python3"
  },
  "language_info": {
   "codemirror_mode": {
    "name": "ipython",
    "version": 3
   },
   "file_extension": ".py",
   "mimetype": "text/x-python",
   "name": "python",
   "nbconvert_exporter": "python",
   "pygments_lexer": "ipython3",
   "version": "3.12.7"
  }
 },
 "nbformat": 4,
 "nbformat_minor": 2
}
